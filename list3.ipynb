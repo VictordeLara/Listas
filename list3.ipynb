{
  "nbformat": 4,
  "nbformat_minor": 0,
  "metadata": {
    "colab": {
      "name": "list3",
      "provenance": [],
      "authorship_tag": "ABX9TyMeMM7xMa74WrMwNMRgm5j4",
      "include_colab_link": true
    },
    "kernelspec": {
      "name": "python3",
      "display_name": "Python 3"
    },
    "language_info": {
      "name": "python"
    }
  },
  "cells": [
    {
      "cell_type": "markdown",
      "metadata": {
        "id": "view-in-github",
        "colab_type": "text"
      },
      "source": [
        "<a href=\"https://colab.research.google.com/github/VictordeLara/Listas/blob/main/list3.ipynb\" target=\"_parent\"><img src=\"https://colab.research.google.com/assets/colab-badge.svg\" alt=\"Open In Colab\"/></a>"
      ]
    },
    {
      "cell_type": "code",
      "metadata": {
        "id": "gAX5bcxXpirP"
      },
      "source": [
        "#tarefa 3\n",
        "\n",
        "#1\n",
        "dado =int( input(\"Digite um número de 0 a 10 :\"))\n",
        "v = ( dado ) ** 2\n",
        "print( v )\n",
        "\n",
        "\n",
        "\n",
        "\n",
        "\n",
        "\n",
        "\n"
      ],
      "execution_count": null,
      "outputs": []
    },
    {
      "cell_type": "code",
      "metadata": {
        "id": "erwR_kDuqha8"
      },
      "source": [
        "#2\n",
        "\n",
        "x = float(input(\" escreva um numero :\"))\n",
        "\n",
        "y = x/3\n",
        "\n",
        "print('A terceira parte é ',(y))\n",
        "\n",
        "\n",
        "\n",
        "\n",
        "\n",
        "\n",
        "\n",
        "\n"
      ],
      "execution_count": null,
      "outputs": []
    },
    {
      "cell_type": "code",
      "metadata": {
        "id": "RkQTl3PlrboU"
      },
      "source": [
        "#3\n",
        "\n",
        "dividendo = float(input(\" Qual dividendo ? :\"))\n",
        "divisor = float(input(\" Qual divisor ? :\"))\n",
        "\n",
        "\n",
        "quociente = dividendo/divisor\n",
        "resto = dividendo%divisor\n",
        "\n",
        "print(\" Dividendo é :\",dividendo)\n",
        "print(\" Divisor é :\",divisor)\n",
        "print(\" Quociente é :\",quociente)\n",
        "print(\" O resto é :\",resto)\n",
        "\n",
        "\n",
        "\n"
      ],
      "execution_count": null,
      "outputs": []
    },
    {
      "cell_type": "code",
      "metadata": {
        "id": "_rIsf8Moybwg"
      },
      "source": [
        "#4\n",
        "\n",
        "x = float(input(\" escreva um numero :\"))\n",
        "y = float(input(\" escreva um numero :\"))\n",
        "i = float(input(\" escreva um numero :\"))\n",
        "k = float(input(\" escreva um numero :\"))\n",
        "\n"
      ],
      "execution_count": null,
      "outputs": []
    }
  ]
}