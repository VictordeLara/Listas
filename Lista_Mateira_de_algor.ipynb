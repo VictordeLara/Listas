{
  "nbformat": 4,
  "nbformat_minor": 0,
  "metadata": {
    "colab": {
      "name": "Lista_Mateira_de_algor",
      "provenance": [],
      "collapsed_sections": []
    },
    "kernelspec": {
      "name": "python3",
      "display_name": "Python 3"
    },
    "language_info": {
      "name": "python"
    }
  },
  "cells": [
    {
      "cell_type": "code",
      "metadata": {
        "id": "sUebcx0D1NE6"
      },
      "source": [
        "# Questao 1\n",
        "A=int(input('Valor de A :'))\n",
        "B=int(input('Valor de B :'))\n",
        "C=int(input('Valor de C :'))\n",
        "\n",
        "\n",
        "if ((A == B or B == C or C == A) and A != B or B != C or C != A):\n",
        "  print('Os valores são lados de um triangulo isósceles')\n",
        "  if (C==0 or B==0 or C==0):\n",
        "    print('Os valores não formam um triangulo')\n",
        "    if ((A + B)< C or (A + C)< B or (B + C)< A):\n",
        "        print('Os valores não formam um triangulo')\n",
        "if (A != B and B != C and C != A):\n",
        "  print('Os valores são lados de um triangulo escaleno')\n",
        "  if (C==0 or B==0 or C==0):\n",
        "    print('Os valores não formam um triangulo')\n",
        "    if ((A + B)< C or (A + C)< B or (B + C)< A):\n",
        "        print('Os valores não formam um triangulo')\n",
        "if (A == B and B == C and C == A ):\n",
        "  print('Os valores são lados de um triangulo equilatero')\n",
        "  if (C==0 or B==0 or C==0):\n",
        "    print('Os valores não formam um triangulo')\n",
        "    if ((A + B)< C or (A + C)< B or (B + C)< A):\n",
        "        print('Os valores não formam um triangulo')\n",
        "\n",
        "\n",
        "\n",
        "\n",
        "\n",
        "\n"
      ],
      "execution_count": null,
      "outputs": []
    },
    {
      "cell_type": "code",
      "metadata": {
        "id": "39HJzSJHoeWs"
      },
      "source": [
        ""
      ],
      "execution_count": null,
      "outputs": []
    },
    {
      "cell_type": "code",
      "metadata": {
        "id": "3lsmkq29747c"
      },
      "source": [
        "#Questão 2\n",
        "\n",
        "N = int(input('Valor :'))\n",
        "i = 0\n",
        "cont= 0\n",
        "for cont in range(1, N + 1):\n",
        "    i = cont + 1 \n",
        "\n",
        "print('Resultado',i)\n",
        "\n",
        "\n"
      ],
      "execution_count": null,
      "outputs": []
    },
    {
      "cell_type": "code",
      "metadata": {
        "id": "BTYsTtNYa-YU"
      },
      "source": [
        "#Questão 3\n",
        "\n",
        "for F in range(50,150,+1):\n",
        "        print(\"Farenheit =\",F)\n",
        "        C = (5 / 9) * (F - 32)\n",
        "        print(\"\\nConvertido para centígrados =\",C)\n",
        "\n",
        "\n",
        "\n",
        "\n"
      ],
      "execution_count": null,
      "outputs": []
    },
    {
      "cell_type": "code",
      "metadata": {
        "id": "aH1UZhnetUax"
      },
      "source": [
        "#Questão 4\n",
        "\n",
        "n = 1\n",
        "cont1 = 0\n",
        "cont2 = 0\n",
        "cont3 = 0\n",
        "cont4 = 0\n",
        "while n > 0:\n",
        "  n = int(input(\"Digite um número : \"))\n",
        "  if n >= 0 and n <= 25:\n",
        "    cont1 = cont1 + 1\n",
        "  elif n >= 26 and n <= 50:\n",
        "    cont2 = cont2 + 1\n",
        "  elif n >= 51 and n <= 75:\n",
        "    ccont3 = cont3 + 1\n",
        "  elif n >= 76 and n <= 100:\n",
        "    cont4 = cont4 + 1\n",
        "print(\"A quantidade de números entre 0 e 25 é: \", cont1, \", entre votos 26-50 é: \", cont2, \", entre votos 51-75 é: \", cont3, \", e entre votos 76-100  é: \", cont4)"
      ],
      "execution_count": null,
      "outputs": []
    },
    {
      "cell_type": "code",
      "metadata": {
        "id": "un-beRmD2ge1"
      },
      "source": [
        "#Questão 5\n",
        "mediatotal=0\n",
        "mediapar=0\n",
        "totalpar=0\n",
        "par=0\n",
        "aux=0\n",
        "impar=0\n",
        "n = int(input(\"Digite um número : \"))\n",
        "while n > 0:\n",
        "  n = int(input(\"Digite um número : \"))\n",
        "  aux = aux + 1\n",
        "  if (n%2==0):\n",
        "    par = par + 1\n",
        "    totalpar=totalpar + n\n",
        "    mediapar = totalpar/par\n",
        "    mediatotal= aux/par+impar\n",
        "  else:\n",
        "    impar = impar + 1\n",
        "    mediatotal= aux/par+impar\n",
        "\n",
        "print('Media de pares :',mediapar)\n",
        "print('Media geral :',mediatotal)"
      ],
      "execution_count": null,
      "outputs": []
    },
    {
      "cell_type": "code",
      "metadata": {
        "id": "xEYxBpbQDJlm"
      },
      "source": [
        "#Questão 6\n",
        "soma = 0\n",
        "n = int(input(\"Digite um número : \"))\n",
        "while n > 0:\n",
        "  n = int(input(\"Digite um número : \"))\n",
        "  for i in range(1,n,+1): \n",
        "    soma = soma + 1/n\n",
        "\n",
        "print(\"a soma total é de :\",soma)\n",
        "\n",
        "\n",
        "\n",
        "\n"
      ],
      "execution_count": null,
      "outputs": []
    },
    {
      "cell_type": "code",
      "metadata": {
        "id": "NFno9IvOFF2u"
      },
      "source": [
        "#Questão 7\n",
        "def menu_inicial():\n",
        "    print('Digite 1 para converter de Celsius para Fahrenheit')\n",
        "    print('Digite 2 para converter de Fahrenheit para Celsius')\n",
        "\n",
        "def cel_fahr():\n",
        "    C = float(input('Entre com a temperatura em Celsius: '))\n",
        "    F = C * (9 / 5) + 32\n",
        "    print('Valor em Fahrenheit: {0}°F'.format(F))\n",
        "\n",
        "def fahr_cel():\n",
        "    F = float(input('Entre com a temperatura em Fahrenheit: '))\n",
        "    C = (F - 32) * (5 / 9)\n",
        "    print('Valor em Celsius: {0}°C'.format(C))\n",
        "\n",
        "if __name__=='__main__':\n",
        "    menu_inicial()\n",
        "    escolha = input('Escolha o tipo de conversão que deseja realizar: ')\n",
        "    if escolha == '1':\n",
        "        cel_fahr()\n",
        "    if escolha == '2':\n",
        "        fahr_cel()\n",
        "\n",
        "\n",
        "\n",
        "\n"
      ],
      "execution_count": null,
      "outputs": []
    },
    {
      "cell_type": "code",
      "metadata": {
        "id": "ZD_rYCFhGBFa"
      },
      "source": [
        "#Questão 8\n",
        "\n",
        "def menu_inicial():\n",
        "  print('Bem vindo')\n",
        "\n",
        "def par():\n",
        "  print('(true) o numero é par ',format(N))\n",
        "def impar():\n",
        "  print('(false) o numero não é par',format(N))\n",
        "\n",
        "if __name__ == '__main__':\n",
        "    menu_inicial()\n",
        "    N =int(input('Digite um numero para saber se é par ou não :'))\n",
        "    if (N%2==0):\n",
        "      par()\n",
        "    else:\n",
        "      impar()\n",
        "\n"
      ],
      "execution_count": null,
      "outputs": []
    },
    {
      "cell_type": "code",
      "metadata": {
        "colab": {
          "base_uri": "https://localhost:8080/"
        },
        "id": "urjh963LNoCe",
        "outputId": "5c78ec74-88b0-4570-b9a8-f5a018adcc24"
      },
      "source": [
        "#Questão 9\n",
        "\n",
        "lista = [-1,0,2,5,7,9,10]\n",
        "\n",
        "soma = lista[0]+lista[1]+lista[2]+lista[3]+lista[4]+lista[5]+lista[6]\n",
        "\n",
        "print('Soma dos valores da lista :',soma)\n",
        "\n",
        "\n",
        "\n",
        "\n"
      ],
      "execution_count": null,
      "outputs": [
        {
          "output_type": "stream",
          "text": [
            "Soma dos valores da lista : 32\n"
          ],
          "name": "stdout"
        }
      ]
    },
    {
      "cell_type": "code",
      "metadata": {
        "id": "-HGQDf14O5CU"
      },
      "source": [
        "#Questão 10\n",
        "lista=[]\n",
        "\n",
        "def obter():\n",
        "  for i in range(10):\n",
        "    x= int(input('digite um numero :'))\n",
        "    if x%2!=0:\n",
        "      lista.append(x)\n",
        "if __name__ == '__main__':\n",
        "    obter()\n",
        "    print('lista :',lista)\n"
      ],
      "execution_count": null,
      "outputs": []
    },
    {
      "cell_type": "code",
      "metadata": {
        "id": "dKjQL94Lkx55"
      },
      "source": [
        "#Questão 11\n",
        "\n",
        "lista=[]\n",
        "def obter():\n",
        "  for i in range(6):\n",
        "    lista.append(input('digite um numero :'))\n",
        "\n",
        "def ordem():\n",
        "  lista.sort(reverse=True)\n",
        "\n",
        "if __name__ == '__main__' :\n",
        "    obter()\n",
        "    ordem()\n",
        "    print(lista)\n",
        "\n"
      ],
      "execution_count": null,
      "outputs": []
    },
    {
      "cell_type": "code",
      "metadata": {
        "id": "iZOLnBnNqdb_",
        "colab": {
          "base_uri": "https://localhost:8080/"
        },
        "outputId": "38acd3a9-d0f9-4af4-e273-0b4dfba9a50a"
      },
      "source": [
        "#Questão 12\n",
        "\n",
        "listaimpar=[]\n",
        "listapar=[]\n",
        "\n",
        "def obter():\n",
        "  for i in range(10):\n",
        "    x= int(input('digite um numero :'))\n",
        "    if x%2!=0:\n",
        "      listaimpar.append(x)\n",
        "    if x%2==0:\n",
        "      listapar.append(x)\n",
        "\n",
        "    \n",
        "def ordem():\n",
        "  listaimpar.sort()\n",
        "  listapar.sort()\n",
        "\n",
        "if __name__ == '__main__' :\n",
        "    obter()\n",
        "    ordem()\n",
        "    print('lista par :',listapar)\n",
        "    print('lista impar :',listaimpar)\n",
        "\n"
      ],
      "execution_count": null,
      "outputs": [
        {
          "output_type": "stream",
          "text": [
            "digite um numero :8679\n",
            "digite um numero :864\n",
            "digite um numero :086\n",
            "digite um numero :0246\n",
            "digite um numero :7534\n",
            "digite um numero :8653\n",
            "digite um numero :0976\n",
            "digite um numero :97564\n",
            "digite um numero :865\n",
            "digite um numero :422\n",
            "lista par : [86, 246, 422, 864, 976, 7534, 97564]\n",
            "lista impar : [865, 8653, 8679]\n"
          ],
          "name": "stdout"
        }
      ]
    }
  ]
}